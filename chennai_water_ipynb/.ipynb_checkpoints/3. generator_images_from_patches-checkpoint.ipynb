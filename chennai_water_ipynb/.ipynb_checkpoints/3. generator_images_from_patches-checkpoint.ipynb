{
 "cells": [
  {
   "cell_type": "code",
   "execution_count": 1,
   "metadata": {},
   "outputs": [
    {
     "name": "stderr",
     "output_type": "stream",
     "text": [
      "/Users/gokul/anaconda3/lib/python3.7/site-packages/sklearn/externals/joblib/__init__.py:15: DeprecationWarning: sklearn.externals.joblib is deprecated in 0.21 and will be removed in 0.23. Please import this functionality directly from joblib, which can be installed with: pip install joblib. If this warning is raised when loading pickled models, you may need to re-serialize those models with scikit-learn 0.21+.\n",
      "  warnings.warn(msg, category=DeprecationWarning)\n"
     ]
    }
   ],
   "source": [
    "from eolearn.core import EOTask, EOPatch, LinearWorkflow, Dependency, FeatureType\n",
    "from eolearn.core import OverwritePermission\n",
    "# We'll use Sentinel-2 imagery (Level-1C) provided through Sentinel Hub\n",
    "# If you don't know what `Level 1C` means, don't worry. It doesn't matter.\n",
    "from eolearn.io import S2L1CWCSInput \n",
    "from eolearn.core import LoadFromDisk, SaveToDisk\n",
    "\n",
    "# cloud detection\n",
    "from eolearn.mask import AddCloudMaskTask, get_s2_pixel_cloud_detector\n",
    "from eolearn.mask import AddValidDataMaskTask\n",
    "\n",
    "# filtering of scenes\n",
    "from eolearn.features import SimpleFilterTask\n",
    "\n",
    "# burning the vectorised polygon to raster\n",
    "from eolearn.geometry import VectorToRaster\n",
    "\n",
    "# The golden standard: numpy and matplotlib\n",
    "import numpy as np\n",
    "\n",
    "# import matplotlib TODO\n",
    "import matplotlib.pyplot as plt\n",
    "from mpl_toolkits.axes_grid1 import make_axes_locatable\n",
    "\n",
    "# For manipulating geo-spatial vector dataset (polygons of nominal water extent)\n",
    "import geopandas as gpd\n",
    "\n",
    "# Image manipulations\n",
    "# Our water detector is going to be based on a simple threshold \n",
    "# of Normalised Difference Water Index (NDWI) grayscale image\n",
    "from skimage.filters import threshold_otsu\n",
    "\n",
    "# Loading polygon of nominal water extent\n",
    "import shapely.wkt\n",
    "from shapely.geometry import Polygon\n",
    "\n",
    "# sentinelhub-py package\n",
    "from sentinelhub import BBox, CRS\n",
    "\n",
    "from skimage.filters import sobel\n",
    "from skimage.morphology import disk\n",
    "from skimage.morphology import erosion, dilation, opening, closing, white_tophat\n",
    "import geopandas as gpd\n",
    "from matplotlib.backends.backend_agg import FigureCanvasAgg as FigureCanvas\n",
    "from matplotlib.figure import Figure\n",
    "import imageio\n",
    "import io\n",
    "import os\n",
    "from PIL import Image\n",
    "import matplotlib.pyplot as plt\n",
    "from matplotlib.patches import Rectangle\n",
    "import matplotlib\n",
    "from ast import literal_eval\n",
    "from datetime import datetime\n",
    "#matplotlib.use('Agg')"
   ]
  },
  {
   "cell_type": "code",
   "execution_count": 83,
   "metadata": {},
   "outputs": [],
   "source": [
    "source = gpd.read_file(\"web_chennai_water/source.geojson\")\n",
    "source[\"water_level\"] = \"\"\n",
    "source[\"date_range\"] = \"\""
   ]
  },
  {
   "cell_type": "code",
   "execution_count": 79,
   "metadata": {},
   "outputs": [],
   "source": [
    "def plot_rgb_w_water(eopatch, idx,filepath):\n",
    "    plt.ioff()\n",
    "    #print(eopatch.bbox.max_x,eopatch.bbox.min_x,eopatch.bbox.max_y,eopatch.bbox.min_y)\n",
    "    ratio = np.abs(eopatch.bbox.max_x - eopatch.bbox.min_x) / np.abs(eopatch.bbox.max_y - eopatch.bbox.min_y)\n",
    "    print(ratio)\n",
    "    fig, ax = plt.subplots(figsize=(ratio * 10, 10))\n",
    "    ax.imshow(eopatch.data['TRUE-COLOR-S2-L1C'][idx])\n",
    "    observed = closing(eopatch.mask['WATER_MASK'][idx,...,0], disk(1))\n",
    "    nominal = sobel(eopatch.mask_timeless['NOMINAL_WATER'][...,0])\n",
    "    observed = sobel(observed)\n",
    "    nominal = np.ma.masked_where(nominal == False, nominal)\n",
    "    observed = np.ma.masked_where(observed == False, observed)\n",
    "    ax.set_title(eopatch.timestamp[idx].date())\n",
    "    ax.imshow(nominal, cmap=plt.cm.Reds)\n",
    "    ax.imshow(observed, cmap=plt.cm.Blues)\n",
    "    ax.axis('off')\n",
    "    #plt.savefig(filepath+\"/images/\"+str(idx)+\".png\", format='png',transparent = True, bbox_inches = 'tight', pad_inches = 0)\n",
    "    #return(filepath+\"/images/\"+str(idx)+\".png\")"
   ]
  },
  {
   "cell_type": "code",
   "execution_count": 87,
   "metadata": {},
   "outputs": [],
   "source": [
    "def generate_data(i):\n",
    "    filepath = 'patches/patches_'+str(i)\n",
    "    patch = EOPatch.load(filepath)\n",
    "    if not os.path.exists(filepath+\"/images/\"):\n",
    "        os.makedirs(filepath+\"/images/\")\n",
    "    files = []\n",
    "    for i in range(0,len(patch.timestamp)): \n",
    "        im = plot_rgb_w_water(patch, i,filepath)\n",
    "        files.append(im)\n",
    "    images = []\n",
    "    for filename in files:\n",
    "        images.append(imageio.imread(filename))\n",
    "    imageio.mimsave(filepath+\"/\"+'all_images.gif', images,duration=0.5)\n",
    "    dates = np.asarray(patch.timestamp)\n",
    "    date = []\n",
    "    for j in range(0,len(dates)): date.append(dates[j].strftime(\"%Y, %M, %d, %H, %m, %S\"))\n",
    "    source[\"water_level\"][i] = str(patch.scalar['WATER_LEVEL'][patch.scalar['COVERAGE'][...,0] < 1.0].tolist())\n",
    "    source[\"date_range\"][i] = str(date)"
   ]
  },
  {
   "cell_type": "code",
   "execution_count": null,
   "metadata": {},
   "outputs": [],
   "source": [
    "for i in range(0,100):\n",
    "    print(i)\n",
    "    generate_data(i)"
   ]
  },
  {
   "cell_type": "code",
   "execution_count": 92,
   "metadata": {},
   "outputs": [
    {
     "name": "stderr",
     "output_type": "stream",
     "text": [
      "/Users/gokul/anaconda3/lib/python3.7/site-packages/ipykernel_launcher.py:6: SettingWithCopyWarning: \n",
      "A value is trying to be set on a copy of a slice from a DataFrame\n",
      "\n",
      "See the caveats in the documentation: http://pandas.pydata.org/pandas-docs/stable/user_guide/indexing.html#returning-a-view-versus-a-copy\n",
      "  \n",
      "/Users/gokul/anaconda3/lib/python3.7/site-packages/ipykernel_launcher.py:7: SettingWithCopyWarning: \n",
      "A value is trying to be set on a copy of a slice from a DataFrame\n",
      "\n",
      "See the caveats in the documentation: http://pandas.pydata.org/pandas-docs/stable/user_guide/indexing.html#returning-a-view-versus-a-copy\n",
      "  import sys\n"
     ]
    }
   ],
   "source": [
    "for i in range(0,1):\n",
    "    patch = EOPatch.load('patches/patches_'+str(i))\n",
    "    dates = np.asarray(patch.timestamp)\n",
    "    date = []\n",
    "    for j in range(0,len(dates)): date.append(dates[j].strftime(\"%Y, %m, %d, %H, %M, %S\"))\n",
    "    source[\"water_level\"][i] = str(patch.scalar['WATER_LEVEL'][patch.scalar['COVERAGE'][...,0] < 1.0].tolist())\n",
    "    source[\"date_range\"][i] = str(date)"
   ]
  },
  {
   "cell_type": "code",
   "execution_count": 93,
   "metadata": {},
   "outputs": [],
   "source": [
    "source.to_file(\"web_chennai_water/data.geojson\", driver=\"GeoJSON\")"
   ]
  },
  {
   "cell_type": "code",
   "execution_count": 120,
   "metadata": {},
   "outputs": [
    {
     "data": {
      "text/plain": [
       "'15'"
      ]
     },
     "execution_count": 120,
     "metadata": {},
     "output_type": "execute_result"
    }
   ],
   "source": [
    "source.Zone[28]"
   ]
  },
  {
   "cell_type": "code",
   "execution_count": 121,
   "metadata": {},
   "outputs": [
    {
     "name": "stdout",
     "output_type": "stream",
     "text": [
      "POINT (80.24530813907036 12.89383097697584)\n"
     ]
    }
   ],
   "source": [
    "print(source.geometry[270].centroid)"
   ]
  },
  {
   "cell_type": "code",
   "execution_count": 112,
   "metadata": {},
   "outputs": [
    {
     "name": "stdout",
     "output_type": "stream",
     "text": [
      "POINT (80.2286836613701 12.8622425614858)\n"
     ]
    }
   ],
   "source": [
    "print(source.geometry[289].centroid)"
   ]
  },
  {
   "cell_type": "code",
   "execution_count": 124,
   "metadata": {},
   "outputs": [
    {
     "name": "stdout",
     "output_type": "stream",
     "text": [
      "POINT (80.32318821911082 13.22328395137884)\n",
      "POINT (80.27752745444275 13.21491765682939)\n",
      "POINT (80.19688836564535 13.17137617403004)\n",
      "POINT (80.2513825226555 13.13771485751482)\n",
      "POINT (80.27788161897386 13.10015924174652)\n",
      "POINT (80.21313360269538 13.12784711825404)\n",
      "POINT (80.18351451441562 13.1346480428651)\n",
      "POINT (80.16154032477962 13.05192873014668)\n",
      "POINT (80.20674131073312 13.10468376918868)\n",
      "POINT (80.24189772622994 13.06003094203152)\n",
      "POINT (80.19781932608336 13.07381922456038)\n",
      "POINT (80.15831565835487 13.01778695936372)\n",
      "POINT (80.21224928801038 12.98819890592323)\n",
      "POINT (80.20302880069487 12.97179637528645)\n",
      "POINT (80.25084310096439 12.94261489937203)\n"
     ]
    },
    {
     "data": {
      "text/plain": [
       "{'1': None,\n",
       " '2': None,\n",
       " '3': None,\n",
       " '4': None,\n",
       " '5': None,\n",
       " '6': None,\n",
       " '7': None,\n",
       " '11': None,\n",
       " '8': None,\n",
       " '9': None,\n",
       " '10': None,\n",
       " '12': None,\n",
       " '13': None,\n",
       " '14': None,\n",
       " '15': None}"
      ]
     },
     "execution_count": 124,
     "metadata": {},
     "output_type": "execute_result"
    }
   ],
   "source": [
    "temp = {}\n",
    "for i in range(0,len(source.Zone)):\n",
    "    if source.Zone[i] not in temp:\n",
    "        temp[source.Zone[i]] = print(source.geometry[i].centroid)"
   ]
  },
  {
   "cell_type": "code",
   "execution_count": null,
   "metadata": {},
   "outputs": [],
   "source": []
  }
 ],
 "metadata": {
  "kernelspec": {
   "display_name": "Python 3",
   "language": "python",
   "name": "python3"
  },
  "language_info": {
   "codemirror_mode": {
    "name": "ipython",
    "version": 3
   },
   "file_extension": ".py",
   "mimetype": "text/x-python",
   "name": "python",
   "nbconvert_exporter": "python",
   "pygments_lexer": "ipython3",
   "version": "3.7.3"
  }
 },
 "nbformat": 4,
 "nbformat_minor": 2
}
