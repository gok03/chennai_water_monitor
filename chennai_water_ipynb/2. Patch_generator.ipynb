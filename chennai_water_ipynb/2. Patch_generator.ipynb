{
 "cells": [
  {
   "cell_type": "markdown",
   "metadata": {
    "colab_type": "text",
    "id": "G47OypFuzDlU"
   },
   "source": [
    "## Water level extraction EOWorkflow\n",
    "\n",
    "Our basic logic of the example workflow is:\n",
    "1. Download all available Sentinel-2 sattelite imagery of Theewaterskloof Dam from beginning of 2016 and today\n",
    "    * the following *layers* will be downloaded:\n",
    "        * `TRUE_COLOR` for nicer visualisations\n",
    "        * `NDWI` for water detection\n",
    "2. Clouds are very often obscuring the view of the ground. In order to correctly determine the water level of the dam all images with clouds need to be filtered out.\n",
    "4. Apply adaptive thresholding to `NDWI` grayscale images\n",
    "5. Extract water level from a comparison of measured water extent with the nominal one\n",
    "\n",
    "Each step in the above overview of the workflow is accomplished by adding an `EOTask` to the `EOWorkflow`"
   ]
  },
  {
   "cell_type": "code",
   "execution_count": 0,
   "metadata": {
    "colab": {
     "base_uri": "https://localhost:8080/",
     "height": 122
    },
    "colab_type": "code",
    "id": "Bn-ukq5m8YgH",
    "outputId": "16e94e74-e706-4304-dbc5-8f25ec5dc197"
   },
   "outputs": [
    {
     "name": "stdout",
     "output_type": "stream",
     "text": [
      "Go to this URL in a browser: https://accounts.google.com/o/oauth2/auth?client_id=947318989803-6bn6qk8qdgf4n4g3pfee6491hc0brc4i.apps.googleusercontent.com&redirect_uri=urn%3Aietf%3Awg%3Aoauth%3A2.0%3Aoob&scope=email%20https%3A%2F%2Fwww.googleapis.com%2Fauth%2Fdocs.test%20https%3A%2F%2Fwww.googleapis.com%2Fauth%2Fdrive%20https%3A%2F%2Fwww.googleapis.com%2Fauth%2Fdrive.photos.readonly%20https%3A%2F%2Fwww.googleapis.com%2Fauth%2Fpeopleapi.readonly&response_type=code\n",
      "\n",
      "Enter your authorization code:\n",
      "··········\n",
      "Mounted at /content/drive\n"
     ]
    }
   ],
   "source": [
    "from google.colab import drive\n",
    "drive.mount('/content/drive')"
   ]
  },
  {
   "cell_type": "code",
   "execution_count": 0,
   "metadata": {
    "colab": {},
    "colab_type": "code",
    "id": "IXEn37PGzDlB"
   },
   "outputs": [],
   "source": [
    "%reload_ext autoreload\n",
    "%autoreload 2\n",
    "%matplotlib inline"
   ]
  },
  {
   "cell_type": "code",
   "execution_count": 0,
   "metadata": {
    "colab": {},
    "colab_type": "code",
    "id": "UlHA5m5t0FPX"
   },
   "outputs": [],
   "source": [
    "!pip install eo-learn\n",
    "!pip install geopandas\n",
    "!pip install sentinelhub"
   ]
  },
  {
   "cell_type": "code",
   "execution_count": 0,
   "metadata": {
    "colab": {
     "base_uri": "https://localhost:8080/",
     "height": 34
    },
    "colab_type": "code",
    "id": "-6ZOnXcx1VuV",
    "outputId": "b5edfc1d-979b-47d2-be22-45c03422a28e"
   },
   "outputs": [
    {
     "name": "stdout",
     "output_type": "stream",
     "text": [
      "The value of parameter 'instance_id' was updated to 'f11f1843-b3b6-47a0-b5eb-f9d5a04ec1d3'\n"
     ]
    }
   ],
   "source": [
    "!sentinelhub.config --instance_id f11f1843-b3b6-47a0-b5eb-f9d5a04ec1d3"
   ]
  },
  {
   "cell_type": "code",
   "execution_count": 0,
   "metadata": {
    "colab": {
     "base_uri": "https://localhost:8080/",
     "height": 71
    },
    "colab_type": "code",
    "id": "fdB-XpSHzDlH",
    "outputId": "809ed0a5-2363-4047-c3fd-7cb22d78154f"
   },
   "outputs": [
    {
     "name": "stderr",
     "output_type": "stream",
     "text": [
      "/usr/local/lib/python3.6/dist-packages/sklearn/externals/joblib/__init__.py:15: DeprecationWarning: sklearn.externals.joblib is deprecated in 0.21 and will be removed in 0.23. Please import this functionality directly from joblib, which can be installed with: pip install joblib. If this warning is raised when loading pickled models, you may need to re-serialize those models with scikit-learn 0.21+.\n",
      "  warnings.warn(msg, category=DeprecationWarning)\n"
     ]
    }
   ],
   "source": [
    "from eolearn.core import EOTask, EOPatch, LinearWorkflow, Dependency, FeatureType\n",
    "from eolearn.core import OverwritePermission\n",
    "# We'll use Sentinel-2 imagery (Level-1C) provided through Sentinel Hub\n",
    "# If you don't know what `Level 1C` means, don't worry. It doesn't matter.\n",
    "from eolearn.io import S2L1CWCSInput \n",
    "from eolearn.core import LoadFromDisk, SaveToDisk\n",
    "\n",
    "# cloud detection\n",
    "from eolearn.mask import AddCloudMaskTask, get_s2_pixel_cloud_detector\n",
    "from eolearn.mask import AddValidDataMaskTask\n",
    "\n",
    "# filtering of scenes\n",
    "from eolearn.features import SimpleFilterTask\n",
    "\n",
    "# burning the vectorised polygon to raster\n",
    "from eolearn.geometry import VectorToRaster\n",
    "\n",
    "# The golden standard: numpy and matplotlib\n",
    "import numpy as np\n",
    "\n",
    "# import matplotlib TODO\n",
    "import matplotlib.pyplot as plt\n",
    "from mpl_toolkits.axes_grid1 import make_axes_locatable\n",
    "\n",
    "# For manipulating geo-spatial vector dataset (polygons of nominal water extent)\n",
    "import geopandas as gpd\n",
    "\n",
    "# Image manipulations\n",
    "# Our water detector is going to be based on a simple threshold \n",
    "# of Normalised Difference Water Index (NDWI) grayscale image\n",
    "from skimage.filters import threshold_otsu\n",
    "\n",
    "# Loading polygon of nominal water extent\n",
    "import shapely.wkt\n",
    "from shapely.geometry import Polygon\n",
    "\n",
    "# sentinelhub-py package\n",
    "from sentinelhub import BBox, CRS\n",
    "\n",
    "from skimage.filters import sobel\n",
    "from skimage.morphology import disk\n",
    "from skimage.morphology import erosion, dilation, opening, closing, white_tophat\n",
    "import geopandas as gpd"
   ]
  },
  {
   "cell_type": "code",
   "execution_count": 0,
   "metadata": {
    "colab": {},
    "colab_type": "code",
    "id": "wiG30r_ezDlb"
   },
   "outputs": [],
   "source": [
    "input_task = S2L1CWCSInput('TRUE-COLOR-S2-L1C', resx='1m', resy='1m', maxcc=0.5, instance_id=None)\n",
    "add_ndwi = S2L1CWCSInput('NDWI')"
   ]
  },
  {
   "cell_type": "code",
   "execution_count": 0,
   "metadata": {
    "colab": {},
    "colab_type": "code",
    "id": "hNGU1HQ4zDlq"
   },
   "outputs": [],
   "source": [
    "cloud_classifier = get_s2_pixel_cloud_detector(average_over=2, dilation_size=1, all_bands=False)\n",
    "\n",
    "cloud_detection = AddCloudMaskTask(cloud_classifier, 'BANDS-S2CLOUDLESS', cm_size_y='160m', cm_size_x='160m', \n",
    "                                   cmask_feature='CLM', cprobs_feature='CLP', instance_id=None)"
   ]
  },
  {
   "cell_type": "code",
   "execution_count": 0,
   "metadata": {
    "colab": {},
    "colab_type": "code",
    "id": "_IcW-werzDlt"
   },
   "outputs": [],
   "source": [
    "def calculate_valid_data_mask(eopatch):\n",
    "    return np.logical_and(eopatch.mask['IS_DATA'].astype(np.bool), \n",
    "                          np.logical_not(eopatch.mask['CLM'].astype(np.bool)))\n",
    "\n",
    "add_valid_mask = AddValidDataMaskTask(predicate=calculate_valid_data_mask)"
   ]
  },
  {
   "cell_type": "code",
   "execution_count": 0,
   "metadata": {
    "colab": {},
    "colab_type": "code",
    "id": "83XA_ltyzDlx"
   },
   "outputs": [],
   "source": [
    "def calculate_coverage(array):\n",
    "    return 1.0 - np.count_nonzero(array) / np.size(array)\n",
    "\n",
    "class AddValidDataCoverage(EOTask):\n",
    "    \n",
    "    def execute(self, eopatch):\n",
    "        \n",
    "        valid_data = eopatch.get_feature(FeatureType.MASK, 'VALID_DATA')\n",
    "        time, height, width, channels = valid_data.shape\n",
    "        \n",
    "        coverage = np.apply_along_axis(calculate_coverage, 1, valid_data.reshape((time, height * width * channels)))\n",
    "        \n",
    "        eopatch.add_feature(FeatureType.SCALAR, 'COVERAGE', coverage[:, np.newaxis])\n",
    "        return eopatch\n",
    "    \n",
    "add_coverage = AddValidDataCoverage()"
   ]
  },
  {
   "cell_type": "code",
   "execution_count": 0,
   "metadata": {
    "colab": {},
    "colab_type": "code",
    "id": "prgKnpq5zDl1"
   },
   "outputs": [],
   "source": [
    "class ValidDataCoveragePredicate:\n",
    "    \n",
    "    def __init__(self, threshold):\n",
    "        self.threshold = threshold\n",
    "        \n",
    "    def __call__(self, array):\n",
    "        return calculate_coverage(array) < self.threshold\n",
    "    \n",
    "remove_cloudy_scenes = SimpleFilterTask((FeatureType.MASK, 'VALID_DATA'), ValidDataCoveragePredicate(0.2))"
   ]
  },
  {
   "cell_type": "code",
   "execution_count": 0,
   "metadata": {
    "colab": {},
    "colab_type": "code",
    "id": "Ed7-TYI8zDl6"
   },
   "outputs": [],
   "source": [
    "class WaterDetector(EOTask):\n",
    "    \n",
    "    @staticmethod\n",
    "    def detect_water(ndwi):\n",
    "        \"\"\"\n",
    "        Very simple water detector based on Otsu thresholding method of NDWI.\n",
    "        \"\"\"\n",
    "        otsu_thr = 1.0\n",
    "        if len(np.unique(ndwi)) > 1:\n",
    "            otsu_thr = threshold_otsu(ndwi)\n",
    "\n",
    "        return ndwi > otsu_thr\n",
    "\n",
    "    def execute(self, eopatch):\n",
    "        water_masks = np.asarray([self.detect_water(ndwi[...,0]) for ndwi in eopatch.data['NDWI']])\n",
    "        \n",
    "        # we're only interested in the water within the dam borders\n",
    "        water_masks = water_masks[...,np.newaxis] * eopatch.mask_timeless['NOMINAL_WATER']\n",
    "        \n",
    "        water_levels = np.asarray([np.count_nonzero(mask)/np.count_nonzero(eopatch.mask_timeless['NOMINAL_WATER']) \n",
    "                                   for mask in water_masks])\n",
    "        \n",
    "        eopatch.add_feature(FeatureType.MASK, 'WATER_MASK', water_masks)\n",
    "        eopatch.add_feature(FeatureType.SCALAR, 'WATER_LEVEL', water_levels[...,np.newaxis])\n",
    "        \n",
    "        return eopatch\n",
    "    \n",
    "water_detection = WaterDetector()"
   ]
  },
  {
   "cell_type": "code",
   "execution_count": 0,
   "metadata": {
    "colab": {},
    "colab_type": "code",
    "id": "cp7QrFOmzDmB"
   },
   "outputs": [],
   "source": [
    "time_interval = ['2010-01-01','2019-09-30']"
   ]
  },
  {
   "cell_type": "code",
   "execution_count": 0,
   "metadata": {
    "colab": {},
    "colab_type": "code",
    "id": "g29tduWF8TOF"
   },
   "outputs": [],
   "source": [
    "poly = gpd.read_file(\"/content/drive/My Drive/source.geojson\")"
   ]
  },
  {
   "cell_type": "code",
   "execution_count": 0,
   "metadata": {
    "colab": {},
    "colab_type": "code",
    "id": "Ai3EjepFzDmE"
   },
   "outputs": [],
   "source": [
    "def call_fun(dam_nominal,dam_bbox,count):\n",
    "    dam_gdf = gpd.GeoDataFrame(crs={'init':'epsg:4326'}, geometry=[dam_nominal])\n",
    "    add_nominal_water = VectorToRaster(dam_gdf, (FeatureType.MASK_TIMELESS, 'NOMINAL_WATER'), values=1, \n",
    "                                   raster_shape=(FeatureType.MASK, 'IS_DATA'), raster_dtype=np.uint8)\n",
    "    workflow = LinearWorkflow(input_task, add_ndwi, cloud_detection, add_nominal_water, add_valid_mask, add_coverage,\n",
    "                          remove_cloudy_scenes, water_detection)\n",
    "    result = workflow.execute({\n",
    "      input_task: {\n",
    "          'bbox': dam_bbox,\n",
    "          'time_interval': time_interval\n",
    "      },\n",
    "  })\n",
    "    patch = list(result.values())[-1]\n",
    "    patch.save('/content/drive/My Drive/patches/patches_'+str(count), overwrite_permission=OverwritePermission.OVERWRITE_FEATURES)\n",
    "    return patch"
   ]
  },
  {
   "cell_type": "code",
   "execution_count": 0,
   "metadata": {
    "colab": {},
    "colab_type": "code",
    "id": "P2t-Afh3zDmK"
   },
   "outputs": [],
   "source": [
    "for i in range(21,51):\n",
    "  dam_nominal = poly.geometry[i]\n",
    "  inflate_bbox = 0.1\n",
    "  minx, miny, maxx, maxy = dam_nominal.bounds\n",
    "\n",
    "  delx = maxx - minx\n",
    "  dely = maxy - miny\n",
    "  minx = minx - delx * inflate_bbox\n",
    "  maxx = maxx + delx * inflate_bbox\n",
    "  miny = miny - dely * inflate_bbox\n",
    "  maxy = maxy + dely * inflate_bbox\n",
    "\n",
    "  dam_bbox = BBox([minx, miny, maxx, maxy], crs=CRS.WGS84)\n",
    "  print()\n",
    "  dam_bbox.geometry - dam_nominal\n",
    "  call_fun(dam_nominal,dam_bbox,i)"
   ]
  },
  {
   "cell_type": "code",
   "execution_count": 0,
   "metadata": {
    "colab": {},
    "colab_type": "code",
    "id": "HNUkF_3e8TOf"
   },
   "outputs": [],
   "source": [
    "#patch = EOPatch.load('/content/drive/My Drive/patches/patches_11')"
   ]
  }
 ],
 "metadata": {
  "accelerator": "TPU",
  "colab": {
   "collapsed_sections": [],
   "name": "WaterMonitorWorkflow_local_copy.ipynb",
   "provenance": [],
   "toc_visible": true
  },
  "kernelspec": {
   "display_name": "Python 3",
   "language": "python",
   "name": "python3"
  },
  "language_info": {
   "codemirror_mode": {
    "name": "ipython",
    "version": 3
   },
   "file_extension": ".py",
   "mimetype": "text/x-python",
   "name": "python",
   "nbconvert_exporter": "python",
   "pygments_lexer": "ipython3",
   "version": "3.7.3"
  }
 },
 "nbformat": 4,
 "nbformat_minor": 1
}
